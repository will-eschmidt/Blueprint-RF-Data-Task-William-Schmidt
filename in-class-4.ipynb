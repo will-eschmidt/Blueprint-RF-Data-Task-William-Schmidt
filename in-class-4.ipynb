{
 "cells": [
  {
   "cell_type": "markdown",
   "id": "behind-skill",
   "metadata": {},
   "source": [
    "**Author(s):**\n",
    "1. Author (author@emory.edu)\n",
    "\n",
    "**Objectives**: This <ins>assessment</ins> aims at\n",
    " 1. Demonstrating you fully understand the difference between an unordered and ordered categorical variable as well as continuous variables and how to tune hyperparameters when training a model;\n",
    " 2. Demonstrating familiarity with *GitHub* to retrieve and submit computer code.\n",
    "\n",
    "**Instructions**:\n",
    " 1. Please write down your Python code and <ins>execute</ins> it in the cell below each question.\n",
    " 2. Please make sure that your final code <ins>runs</ins> before submitting it.\n",
    " \n",
    " **Data Source**: The `hprice3` data set from the `wooldridge` library, i.e., [Introductory Econometrics: A Modern Approach](https://pypi.org/project/wooldridge/) by Jeffrey Wooldridge.\n",
    "\n",
    "**Data Description**:\n",
    "\n",
    "```\n",
    "## Obs:   321\n",
    "\n",
    "##  1. year                     1978, 1981\n",
    "##  2. age                      age of house\n",
    "##  3. agesq                    age^2\n",
    "##  4. nbh                      neighborhood, 0 to 6\n",
    "##  5. cbd                      dist. to central bus. dstrct, feet\n",
    "##  6. inst                     dist. to interstate, feet\n",
    "##  7. linst                    log(inst)\n",
    "##  8. price                    selling price\n",
    "##  9. rooms                    # rooms in house\n",
    "## 10. area                     square footage of house\n",
    "## 11. land                     square footage lot\n",
    "## 12. baths                    # bathrooms\n",
    "## 13. dist                     dist. from house to incin., feet\n",
    "## 14. ldist                    log(dist)\n",
    "## 15. lprice                   log(price)\n",
    "## 16. y81                      =1 if year = 1981\n",
    "## 17. larea                    log(area)\n",
    "## 18. lland                    log(land)\n",
    "## 19. linstsq                  linst^2\n",
    "```"
   ]
  },
  {
   "cell_type": "markdown",
   "id": "distant-lemon",
   "metadata": {},
   "source": [
    "1. [5 points] Load the `hprice3` data set from the `wooldridge` Python library. 🛑 If you load this data set from another source there will be a 1-point penalty."
   ]
  },
  {
   "cell_type": "code",
   "execution_count": null,
   "id": "filled-equipment",
   "metadata": {},
   "outputs": [],
   "source": [
    "import pandas as pd\n",
    "import wooldridge as woo\n",
    "hprice3 = woo.dataWoo('hprice3').copy()"
   ]
  },
  {
   "cell_type": "markdown",
   "id": "consolidated-catch",
   "metadata": {},
   "source": [
    "2. [20 points] Plot the estimated joint density of $\\log(price)$ and $\\log(land)$ that utilizes 'rule-of-thumb' bandwidths. Please provide informative labels."
   ]
  },
  {
   "cell_type": "code",
   "execution_count": null,
   "id": "lucky-battle",
   "metadata": {},
   "outputs": [],
   "source": [
    "import numpy as np\n",
    "import matplotlib.pyplot as plt\n",
    "from mpl_toolkits.mplot3d import Axes3D\n",
    "from statsmodels.nonparametric.kernel_density import KDEMultivariate as KDE\n",
    "\n",
    "# Create surface plot data\n",
    "x = np.linspace(hprice3.lprice.min(),hprice3.lprice.max(), 100)\n",
    "y = np.linspace(hprice3.lland.min(),hprice3.lland.max(), 100)\n",
    "X, Y = np.meshgrid(x, y)\n",
    "dens = KDE(data=hprice3[['lprice','lland']],var_type='cc',bw='normal_reference')\n",
    "Z = np.array([dens.pdf(pair) for pair in zip(X.ravel(), Y.ravel())])\n",
    "Z = Z.reshape(X.shape)\n",
    "# Plot it\n",
    "fig = plt.figure()\n",
    "ax =fig.gca(projection='3d')\n",
    "ax.set_xlabel(r'$\\log(price)$')\n",
    "ax.set_ylabel(r'$\\log(land)$')\n",
    "ax.set_zlabel(r'$\\hat{f}(lprice,lland)$')\n",
    "ax.azim = -40\n",
    "ax.dist = 10\n",
    "ax.elev = 20\n",
    "surface = ax.plot_surface(X, Y, Z)\n",
    "plt.show()"
   ]
  },
  {
   "cell_type": "markdown",
   "id": "pressed-scratch",
   "metadata": {},
   "source": [
    "3. You are interested in fitting a model for `lprice` based on `year`, `age`, `nbh`, `linst`, `rooms`, `larea`, `lland`, and `baths`, i.e.,\n",
    "\n",
    "$$\n",
    "\\mathbb{E}[\\texttt{lprice}]=m(\\texttt{year},\\texttt{age},\\texttt{nbh},\\texttt{linst},\\texttt{rooms},\\texttt{larea},\\texttt{lland},\\texttt{baths}).\n",
    "$$"
   ]
  },
  {
   "cell_type": "markdown",
   "id": "atomic-affair",
   "metadata": {},
   "source": [
    "   (a) [3 points] After treating `age` as a continuous feature, what _other_ features are also _continuous_?"
   ]
  },
  {
   "cell_type": "markdown",
   "id": "solar-silly",
   "metadata": {},
   "source": [
    "**Answer:**"
   ]
  },
  {
   "cell_type": "markdown",
   "id": "native-andrew",
   "metadata": {},
   "source": [
    "   (b) [3 points] What features are _ordered_ categorical variables?"
   ]
  },
  {
   "cell_type": "markdown",
   "id": "revolutionary-cartoon",
   "metadata": {},
   "source": [
    "**Answer:**"
   ]
  },
  {
   "cell_type": "markdown",
   "id": "varying-export",
   "metadata": {},
   "source": [
    " (c) [1 point] What feature is an _unordered_ categorical variable?"
   ]
  },
  {
   "cell_type": "markdown",
   "id": "anticipated-hindu",
   "metadata": {},
   "source": [
    "**Answer:**"
   ]
  },
  {
   "cell_type": "markdown",
   "id": "saved-video",
   "metadata": {},
   "source": [
    "4. [20 points] Proceed to create `X_train`, `X_test`, `y_train`, and `y_test` as previously done using 20% of your data set as the validation set and a `random_state=42`."
   ]
  },
  {
   "cell_type": "code",
   "execution_count": null,
   "id": "dressed-tuner",
   "metadata": {},
   "outputs": [],
   "source": [
    "tmp = [\"year\", \"age\", \"nbh\", \"linst\", \"rooms\",\"larea\", \"lland\", \"baths\"]\n",
    "X = hprice3[tmp]\n",
    "y = hprice3[\"lprice\"]\n",
    "\n",
    "from sklearn.model_selection import train_test_split\n",
    "X_train, X_test, y_train, y_test = train_test_split(X, y, test_size=0.20, random_state=42)"
   ]
  },
  {
   "cell_type": "markdown",
   "id": "necessary-score",
   "metadata": {},
   "source": [
    "5. [20 points] Fit a _local linear nonparametric regression_ to your training data set with bandwidths equal to 0.5 for `year`, `nbh`, `linst`, `lland`, and `baths`. Set the bandwidths for `age`, `rooms`, and `larea` equal to 20, 0.6, and 0.22 respectively. Then print the  $R^2$ (as defined in the lecture notes). 🛑 The $R^2$ of this fit should be equal to `0.9501017679028126`, otherwise there will be a 5-point penalty."
   ]
  },
  {
   "cell_type": "code",
   "execution_count": null,
   "id": "aerial-tiger",
   "metadata": {},
   "outputs": [],
   "source": [
    "# This code fits a local constant nonparametric regression with rule-of-thumb bandwidths\n",
    "from statsmodels.nonparametric.kernel_regression import KernelReg as KREG\n",
    "reg_ll = KREG(endog=y_train,exog=X_train,reg_type='ll',var_type = 'ocucocco',bw=np.array([0.5,20,0.5,0.5,0.6,0.22,0.5,0.5]))\n",
    "print(reg_ll.r_squared())"
   ]
  },
  {
   "cell_type": "markdown",
   "id": "international-committee",
   "metadata": {},
   "source": [
    "6. [20 points] Using the `mean_squared_error` function from the `sklearn.metrics` folder proceed to print the test Mean Squared Error. 🛑 The test MSE should be equal to `0.08341205788860644`, otherwise there will be a 5-point penalty."
   ]
  },
  {
   "cell_type": "code",
   "execution_count": null,
   "id": "permanent-improvement",
   "metadata": {},
   "outputs": [],
   "source": [
    "ahat, bhat =reg_ll.fit(X_test)\n",
    "from sklearn.metrics import mean_squared_error\n",
    "print(mean_squared_error(y_test,ahat))          # Calculate the test MSE"
   ]
  },
  {
   "cell_type": "markdown",
   "id": "vocational-fellowship",
   "metadata": {},
   "source": [
    "7. [8 points] What is the estimated _price_ of a house that is 3-year old in 1981, has 3 rooms, 2 baths, located in neighborhood 0, with `linst=10`, `larea=8`, and `lland=10`. 🛑 The estimated price is `127208.82088656` otherwise there will be a 8-point penalty."
   ]
  },
  {
   "cell_type": "code",
   "execution_count": null,
   "id": "adverse-settle",
   "metadata": {},
   "outputs": [],
   "source": [
    "x = np.array([1981,3,0,10,3,8,10,2])\n",
    "ahat, bhat =reg_ll.fit(x)\n",
    "np.exp(ahat)"
   ]
  }
 ],
 "metadata": {
  "kernelspec": {
   "display_name": "Python 3",
   "language": "python",
   "name": "python3"
  },
  "language_info": {
   "codemirror_mode": {
    "name": "ipython",
    "version": 3
   },
   "file_extension": ".py",
   "mimetype": "text/x-python",
   "name": "python",
   "nbconvert_exporter": "python",
   "pygments_lexer": "ipython3",
   "version": "3.7.9"
  }
 },
 "nbformat": 4,
 "nbformat_minor": 5
}
